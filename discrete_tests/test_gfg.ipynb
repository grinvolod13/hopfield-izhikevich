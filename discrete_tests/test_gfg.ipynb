{
 "cells": [
  {
   "cell_type": "code",
   "execution_count": 1,
   "metadata": {
    "collapsed": true
   },
   "outputs": [],
   "source": [
    "import numpy as np\n",
    "import hopfield as hf\n",
    "import matplotlib.pyplot as plt"
   ]
  },
  {
   "cell_type": "code",
   "execution_count": 2,
   "outputs": [],
   "source": [
    "def show(X:np.array, l = 0):\n",
    "    X=X.copy()\n",
    "    if l !=0:\n",
    "        X.reshape(l,l)\n",
    "\n",
    "    X[X>0]=255\n",
    "    X[X<=0]=0\n",
    "    plt.imshow([X])\n",
    "    plt.show()"
   ],
   "metadata": {
    "collapsed": false
   }
  },
  {
   "cell_type": "code",
   "execution_count": 3,
   "outputs": [],
   "source": [
    "def noize(src: np.ndarray, p, binary = False):\n",
    "    d = src.copy()\n",
    "    for r in range(int(p*len(d.data))):\n",
    "        i = np.random.randint(len(d.data))\n",
    "        if binary:\n",
    "            d.data[i] = np.random.randint(2)\n",
    "        else:\n",
    "            d.data[i] = np.random.randint(2)*2-1\n",
    "    return d.copy()"
   ],
   "metadata": {
    "collapsed": false
   }
  },
  {
   "cell_type": "code",
   "execution_count": 4,
   "outputs": [],
   "source": [
    "h = hf.Hopfield(0)"
   ],
   "metadata": {
    "collapsed": false
   }
  },
  {
   "cell_type": "code",
   "execution_count": 5,
   "outputs": [],
   "source": [
    "images = np.array([[1, 1, 1, 1,-1, 1, 1,-1, 1],\n",
    "                   [1, 1, 1, 1,-1,-1, 1,-1,-1],\n",
    "                   [1,-1,-1, 1,-1,-1, 1, 1, 1]],float)"
   ],
   "metadata": {
    "collapsed": false
   }
  },
  {
   "cell_type": "code",
   "execution_count": 6,
   "outputs": [],
   "source": [
    "X = np.array([1,-1,-1, 1,-1,-1, 1, 1,-1],float)"
   ],
   "metadata": {
    "collapsed": false
   }
  },
  {
   "cell_type": "code",
   "execution_count": 7,
   "outputs": [],
   "source": [
    "h.train(images)"
   ],
   "metadata": {
    "collapsed": false
   }
  },
  {
   "cell_type": "code",
   "execution_count": 8,
   "outputs": [],
   "source": [
    "t, out = h.run(X)"
   ],
   "metadata": {
    "collapsed": false
   }
  },
  {
   "cell_type": "code",
   "execution_count": 9,
   "outputs": [
    {
     "name": "stdout",
     "output_type": "stream",
     "text": [
      "[ 1. -1. -1.  1. -1. -1.  1.  1.  1.]\n"
     ]
    }
   ],
   "source": [
    "print(out)"
   ],
   "metadata": {
    "collapsed": false
   }
  }
 ],
 "metadata": {
  "kernelspec": {
   "display_name": "Python 3",
   "language": "python",
   "name": "python3"
  },
  "language_info": {
   "codemirror_mode": {
    "name": "ipython",
    "version": 2
   },
   "file_extension": ".py",
   "mimetype": "text/x-python",
   "name": "python",
   "nbconvert_exporter": "python",
   "pygments_lexer": "ipython2",
   "version": "2.7.6"
  }
 },
 "nbformat": 4,
 "nbformat_minor": 0
}
